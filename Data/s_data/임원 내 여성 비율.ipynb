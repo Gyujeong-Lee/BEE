{
 "cells": [
  {
   "cell_type": "code",
   "execution_count": null,
   "id": "7164f8d5",
   "metadata": {},
   "outputs": [],
   "source": [
    "# 임원 내 여성 비율 \n",
    "\n",
    "import requests\n",
    "import json\n",
    "import openpyxl as xl\n",
    "\n",
    "wb = xl.load_workbook('C:/Users/multicampus/고유번호추가.xlsx')\n",
    "ws = wb.active;\n",
    "cnt=-1\n",
    "nono=0\n",
    "ent=[]\n",
    "for a in range(2,202):\n",
    "    corp_code = ws.cell(row = a, column = 8).value\n",
    "    res = requests.get(\"https://opendart.fss.or.kr/api/exctvSttus.json?crtfc_key=396b64cf35cf2138bbee974d47ca9d07baccc3e0&corp_code=\"+corp_code+\"&bsns_year=2020&reprt_code=11011\")\n",
    "\n",
    "    cnt+=1\n",
    "    item = json.loads(res.text)\n",
    "\n",
    "    if item['status'] == '000':\n",
    "        n = len(item['list'])\n",
    "        cnt_man, cnt_woman = 0, 0\n",
    "        for i in range(n):\n",
    "                target = item['list'][i]\n",
    "                if target['sexdstn'] == '남':\n",
    "                    cnt_man += 1\n",
    "                else:\n",
    "                    cnt_woman += 1\n",
    "    elif item['status'] == '013':\n",
    "        nono+=1\n",
    "        print(\"데이터 없음 ㅠㅠㅋㅋ\")\n",
    "    print(\"----------------------------\")    \n",
    "    print('남자 임원 수: ', cnt_man, '여자 임원 수: ', cnt_woman)\n",
    "    # 비율 구하기 \n",
    "    score1 = cnt_woman / (cnt_man + cnt_woman)\n",
    "    print('여성 임원 비율: ', round(score1,3))\n",
    "    ## 만점 10점 가정 \n",
    "    print('******점수 ',cnt,'번', round(score1*2*10, 3))\n",
    "    ent.append(round(score1,3))\n",
    "print(nono)\n",
    "print(\"여성 임원 비율 최대값 : \", max(ent))\n",
    "print(\"여성 임원 비율 최소값 : \", min(ent))\n"
   ]
  }
 ],
 "metadata": {
  "kernelspec": {
   "display_name": "Python 3",
   "language": "python",
   "name": "python3"
  },
  "language_info": {
   "codemirror_mode": {
    "name": "ipython",
    "version": 3
   },
   "file_extension": ".py",
   "mimetype": "text/x-python",
   "name": "python",
   "nbconvert_exporter": "python",
   "pygments_lexer": "ipython3",
   "version": "3.8.8"
  }
 },
 "nbformat": 4,
 "nbformat_minor": 5
}
