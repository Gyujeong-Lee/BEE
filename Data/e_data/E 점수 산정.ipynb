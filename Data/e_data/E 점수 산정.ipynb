{
 "cells": [
  {
   "cell_type": "code",
   "execution_count": 1,
   "id": "dc3f4ffd",
   "metadata": {},
   "outputs": [],
   "source": [
    "import pandas as pd\n",
    "import numpy as np\n",
    "import matplotlib.pyplot as plt\n",
    "\n",
    "import seaborn as sns\n",
    "sns.set()\n",
    "\n",
    "import requests\n",
    "\n",
    "plt.rcParams['font.family'] = 'Malgun Gothic'"
   ]
  },
  {
   "cell_type": "code",
   "execution_count": 2,
   "id": "b3d4e20f",
   "metadata": {},
   "outputs": [],
   "source": [
    "data = pd.read_excel('./환경데이터(이상치제거).xlsx')"
   ]
  },
  {
   "cell_type": "code",
   "execution_count": 3,
   "id": "6caa5750",
   "metadata": {},
   "outputs": [],
   "source": [
    "data.drop(columns=['Unnamed: 0'], axis=1, inplace=True)"
   ]
  },
  {
   "cell_type": "code",
   "execution_count": 4,
   "id": "f11370b0",
   "metadata": {},
   "outputs": [
    {
     "data": {
      "text/html": [
       "<div>\n",
       "<style scoped>\n",
       "    .dataframe tbody tr th:only-of-type {\n",
       "        vertical-align: middle;\n",
       "    }\n",
       "\n",
       "    .dataframe tbody tr th {\n",
       "        vertical-align: top;\n",
       "    }\n",
       "\n",
       "    .dataframe thead th {\n",
       "        text-align: right;\n",
       "    }\n",
       "</style>\n",
       "<table border=\"1\" class=\"dataframe\">\n",
       "  <thead>\n",
       "    <tr style=\"text-align: right;\">\n",
       "      <th></th>\n",
       "      <th>종목코드</th>\n",
       "      <th>종목명</th>\n",
       "      <th>종가</th>\n",
       "      <th>대비</th>\n",
       "      <th>등락률</th>\n",
       "      <th>상장시가총액</th>\n",
       "      <th>고유번호</th>\n",
       "      <th>업종코드</th>\n",
       "      <th>업종대분류</th>\n",
       "      <th>온실가스배출량</th>\n",
       "      <th>에너지사용량</th>\n",
       "      <th>매출액</th>\n",
       "      <th>온실가스배출량/매출액(tCO2/억원)</th>\n",
       "      <th>에너지사용량/매출액(TJ/억원)</th>\n",
       "    </tr>\n",
       "  </thead>\n",
       "  <tbody>\n",
       "    <tr>\n",
       "      <th>0</th>\n",
       "      <td>5930</td>\n",
       "      <td>삼성전자</td>\n",
       "      <td>77400</td>\n",
       "      <td>800</td>\n",
       "      <td>1.04</td>\n",
       "      <td>462061169</td>\n",
       "      <td>126380</td>\n",
       "      <td>264</td>\n",
       "      <td>제조업</td>\n",
       "      <td>12531900.0</td>\n",
       "      <td>177122.0</td>\n",
       "      <td>1.663112e+14</td>\n",
       "      <td>7.54</td>\n",
       "      <td>0.1065</td>\n",
       "    </tr>\n",
       "    <tr>\n",
       "      <th>1</th>\n",
       "      <td>660</td>\n",
       "      <td>SK하이닉스</td>\n",
       "      <td>106000</td>\n",
       "      <td>-1000</td>\n",
       "      <td>-0.93</td>\n",
       "      <td>77168251</td>\n",
       "      <td>164779</td>\n",
       "      <td>2612</td>\n",
       "      <td>제조업</td>\n",
       "      <td>4691884.0</td>\n",
       "      <td>80758.0</td>\n",
       "      <td>3.052499e+13</td>\n",
       "      <td>15.37</td>\n",
       "      <td>0.2646</td>\n",
       "    </tr>\n",
       "    <tr>\n",
       "      <th>2</th>\n",
       "      <td>35420</td>\n",
       "      <td>NAVER</td>\n",
       "      <td>451500</td>\n",
       "      <td>-1000</td>\n",
       "      <td>-0.22</td>\n",
       "      <td>74164923</td>\n",
       "      <td>266961</td>\n",
       "      <td>63120</td>\n",
       "      <td>정보통신업</td>\n",
       "      <td>77420.0</td>\n",
       "      <td>1398.0</td>\n",
       "      <td>4.126629e+12</td>\n",
       "      <td>1.88</td>\n",
       "      <td>0.0339</td>\n",
       "    </tr>\n",
       "    <tr>\n",
       "      <th>3</th>\n",
       "      <td>35720</td>\n",
       "      <td>카카오</td>\n",
       "      <td>154000</td>\n",
       "      <td>-2500</td>\n",
       "      <td>-1.60</td>\n",
       "      <td>68484900</td>\n",
       "      <td>258801</td>\n",
       "      <td>63120</td>\n",
       "      <td>정보통신업</td>\n",
       "      <td>76926.0</td>\n",
       "      <td>1585.0</td>\n",
       "      <td>1.779200e+12</td>\n",
       "      <td>4.32</td>\n",
       "      <td>0.0891</td>\n",
       "    </tr>\n",
       "    <tr>\n",
       "      <th>4</th>\n",
       "      <td>207940</td>\n",
       "      <td>삼성바이오로직스</td>\n",
       "      <td>951000</td>\n",
       "      <td>0</td>\n",
       "      <td>0.00</td>\n",
       "      <td>62922915</td>\n",
       "      <td>877059</td>\n",
       "      <td>21102</td>\n",
       "      <td>제조업</td>\n",
       "      <td>124807.0</td>\n",
       "      <td>2529.0</td>\n",
       "      <td>1.164777e+12</td>\n",
       "      <td>10.72</td>\n",
       "      <td>0.2171</td>\n",
       "    </tr>\n",
       "  </tbody>\n",
       "</table>\n",
       "</div>"
      ],
      "text/plain": [
       "     종목코드       종목명      종가    대비   등락률     상장시가총액    고유번호   업종코드  업종대분류  \\\n",
       "0    5930      삼성전자   77400   800  1.04  462061169  126380    264    제조업   \n",
       "1     660    SK하이닉스  106000 -1000 -0.93   77168251  164779   2612    제조업   \n",
       "2   35420     NAVER  451500 -1000 -0.22   74164923  266961  63120  정보통신업   \n",
       "3   35720       카카오  154000 -2500 -1.60   68484900  258801  63120  정보통신업   \n",
       "4  207940  삼성바이오로직스  951000     0  0.00   62922915  877059  21102    제조업   \n",
       "\n",
       "      온실가스배출량    에너지사용량           매출액  온실가스배출량/매출액(tCO2/억원)  에너지사용량/매출액(TJ/억원)  \n",
       "0  12531900.0  177122.0  1.663112e+14                  7.54             0.1065  \n",
       "1   4691884.0   80758.0  3.052499e+13                 15.37             0.2646  \n",
       "2     77420.0    1398.0  4.126629e+12                  1.88             0.0339  \n",
       "3     76926.0    1585.0  1.779200e+12                  4.32             0.0891  \n",
       "4    124807.0    2529.0  1.164777e+12                 10.72             0.2171  "
      ]
     },
     "execution_count": 4,
     "metadata": {},
     "output_type": "execute_result"
    }
   ],
   "source": [
    "data.head()"
   ]
  },
  {
   "cell_type": "code",
   "execution_count": 5,
   "id": "bfcb6c21",
   "metadata": {},
   "outputs": [
    {
     "data": {
      "text/plain": [
       "Text(0.5, 1.0, '업종별 온실가스배출량')"
      ]
     },
     "execution_count": 5,
     "metadata": {},
     "output_type": "execute_result"
    },
    {
     "data": {
      "image/png": "[encoded data removed]",
      "text/plain": [
       "<Figure size 1080x576 with 1 Axes>"
      ]
     },
     "metadata": {},
     "output_type": "display_data"
    }
   ],
   "source": [
    "plt.figure(figsize = (15,8))\n",
    "sns.boxplot(data=data, x='업종대분류', y='온실가스배출량/매출액(tCO2/억원)')\n",
    "plt.title('업종별 온실가스배출량')"
   ]
  },
  {
   "cell_type": "code",
   "execution_count": null,
   "id": "09def661",
   "metadata": {},
   "outputs": [],
   "source": []
  },
  {
   "cell_type": "code",
   "execution_count": 14,
   "id": "b253d661",
   "metadata": {},
   "outputs": [
    {
     "data": {
      "text/plain": [
       "Text(0.5, 1.0, '온실가스배출량')"
      ]
     },
     "execution_count": 14,
     "metadata": {},
     "output_type": "execute_result"
    },
    {
     "data": {
      "image/png": "[encoded data removed]",
      "text/plain": [
       "<Figure size 720x1440 with 1 Axes>"
      ]
     },
     "metadata": {},
     "output_type": "display_data"
    }
   ],
   "source": [
    "plt.figure(figsize = (10,20))\n",
    "sns.boxplot(data=data['온실가스배출량/매출액(tCO2/억원)'])\n",
    "plt.title('온실가스배출량')"
   ]
  },
  {
   "cell_type": "code",
   "execution_count": null,
   "id": "39586332",
   "metadata": {},
   "outputs": [],
   "source": []
  },
  {
   "cell_type": "code",
   "execution_count": null,
   "id": "2629ea2b",
   "metadata": {},
   "outputs": [],
   "source": []
  },
  {
   "cell_type": "code",
   "execution_count": null,
   "id": "50cfc7d4",
   "metadata": {},
   "outputs": [],
   "source": []
  },
  {
   "cell_type": "code",
   "execution_count": null,
   "id": "ac1453a6",
   "metadata": {},
   "outputs": [],
   "source": []
  },
  {
   "cell_type": "code",
   "execution_count": null,
   "id": "7f8c9454",
   "metadata": {},
   "outputs": [],
   "source": []
  },
  {
   "cell_type": "code",
   "execution_count": 9,
   "id": "5e568c66",
   "metadata": {},
   "outputs": [],
   "source": [
    "data_all = pd.read_excel('./환경데이터(최종).xlsx')\n",
    "data_all.drop(columns=['Unnamed: 0'], axis=1, inplace=True)"
   ]
  },
  {
   "cell_type": "code",
   "execution_count": 10,
   "id": "f9c59e22",
   "metadata": {},
   "outputs": [
    {
     "data": {
      "text/plain": [
       "제조업                         107\n",
       "금융 및 보험업                     34\n",
       "도매 및 소매업                     22\n",
       "정보통신업                        10\n",
       "전문, 과학 및 기술 서비스업              6\n",
       "건설업                           6\n",
       "운수 및 창고업                      5\n",
       "사업시설 관리, 사업 지원 및 임대 서비스업      3\n",
       "예술, 스포츠 및 여가관련 서비스업           2\n",
       "전기, 가스, 증기 및 공기 조절 공급업        2\n",
       "부동산업                          1\n",
       "농업, 임업 및 어업                   1\n",
       "협회 및 단체, 수리 및 기타 개인 서비스업      1\n",
       "Name: 업종대분류, dtype: int64"
      ]
     },
     "execution_count": 10,
     "metadata": {},
     "output_type": "execute_result"
    }
   ],
   "source": [
    "data_all['업종대분류'].value_counts()"
   ]
  },
  {
   "cell_type": "code",
   "execution_count": 11,
   "id": "102008ac",
   "metadata": {},
   "outputs": [
    {
     "data": {
      "text/plain": [
       "count      160.000000\n",
       "mean       230.495562\n",
       "std       2539.387780\n",
       "min          0.010000\n",
       "25%          1.207500\n",
       "50%          5.490000\n",
       "75%         20.485000\n",
       "max      32137.040000\n",
       "Name: 온실가스배출량/매출액(tCO2/억원), dtype: float64"
      ]
     },
     "execution_count": 11,
     "metadata": {},
     "output_type": "execute_result"
    }
   ],
   "source": [
    "data_all['온실가스배출량/매출액(tCO2/억원)'].describe()"
   ]
  },
  {
   "cell_type": "code",
   "execution_count": 12,
   "id": "bf401583",
   "metadata": {},
   "outputs": [
    {
     "data": {
      "text/plain": [
       "count    158.000000\n",
       "mean      25.582152\n",
       "std       52.172522\n",
       "min        0.010000\n",
       "25%        1.182500\n",
       "50%        5.360000\n",
       "75%       19.770000\n",
       "max      285.440000\n",
       "Name: 온실가스배출량/매출액(tCO2/억원), dtype: float64"
      ]
     },
     "execution_count": 12,
     "metadata": {},
     "output_type": "execute_result"
    }
   ],
   "source": [
    "# 이상치 제거 후 분포\n",
    "data['온실가스배출량/매출액(tCO2/억원)'].describe()"
   ]
  },
  {
   "cell_type": "code",
   "execution_count": null,
   "id": "d35de865",
   "metadata": {},
   "outputs": [],
   "source": []
  },
  {
   "cell_type": "code",
   "execution_count": null,
   "id": "2d15f530",
   "metadata": {},
   "outputs": [],
   "source": []
  },
  {
   "cell_type": "code",
   "execution_count": null,
   "id": "69465a7e",
   "metadata": {},
   "outputs": [],
   "source": []
  },
  {
   "cell_type": "code",
   "execution_count": null,
   "id": "ef6a2868",
   "metadata": {},
   "outputs": [],
   "source": []
  },
  {
   "cell_type": "code",
   "execution_count": null,
   "id": "dedec7e7",
   "metadata": {},
   "outputs": [],
   "source": []
  },
  {
   "cell_type": "code",
   "execution_count": null,
   "id": "cb69232b",
   "metadata": {},
   "outputs": [],
   "source": []
  },
  {
   "cell_type": "code",
   "execution_count": null,
   "id": "7d320af6",
   "metadata": {},
   "outputs": [],
   "source": []
  },
  {
   "cell_type": "code",
   "execution_count": null,
   "id": "2ef2fd2c",
   "metadata": {},
   "outputs": [],
   "source": []
  },
  {
   "cell_type": "code",
   "execution_count": null,
   "id": "333af9ba",
   "metadata": {},
   "outputs": [],
   "source": []
  },
  {
   "cell_type": "code",
   "execution_count": null,
   "id": "dc83a63b",
   "metadata": {},
   "outputs": [],
   "source": []
  },
  {
   "cell_type": "code",
   "execution_count": null,
   "id": "0d159ae2",
   "metadata": {},
   "outputs": [],
   "source": []
  },
  {
   "cell_type": "code",
   "execution_count": null,
   "id": "0be75ee5",
   "metadata": {},
   "outputs": [],
   "source": []
  },
  {
   "cell_type": "code",
   "execution_count": null,
   "id": "3eae120f",
   "metadata": {},
   "outputs": [],
   "source": []
  },
  {
   "cell_type": "code",
   "execution_count": null,
   "id": "2d7b921b",
   "metadata": {},
   "outputs": [],
   "source": []
  },
  {
   "cell_type": "code",
   "execution_count": null,
   "id": "b10c6518",
   "metadata": {},
   "outputs": [],
   "source": []
  },
  {
   "cell_type": "code",
   "execution_count": null,
   "id": "7fcf46b1",
   "metadata": {},
   "outputs": [],
   "source": []
  },
  {
   "cell_type": "code",
   "execution_count": null,
   "id": "8c0719d7",
   "metadata": {},
   "outputs": [],
   "source": []
  }
 ],
 "metadata": {
  "kernelspec": {
   "display_name": "Python 3",
   "language": "python",
   "name": "python3"
  },
  "language_info": {
   "codemirror_mode": {
    "name": "ipython",
    "version": 3
   },
   "file_extension": ".py",
   "mimetype": "text/x-python",
   "name": "python",
   "nbconvert_exporter": "python",
   "pygments_lexer": "ipython3",
   "version": "3.8.8"
  }
 },
 "nbformat": 4,
 "nbformat_minor": 5
}
