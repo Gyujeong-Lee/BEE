{
 "cells": [
  {
   "cell_type": "code",
   "execution_count": 14,
   "id": "54c177f7",
   "metadata": {},
   "outputs": [],
   "source": [
    "import pandas as pd\n",
    "import numpy as np\n",
    "import matplotlib.pyplot as plt\n",
    "\n",
    "import seaborn as sns\n",
    "sns.set()\n",
    "\n",
    "import requests\n",
    "\n",
    "plt.rcParams['font.family'] = 'Malgun Gothic'"
   ]
  },
  {
   "cell_type": "code",
   "execution_count": 2,
   "id": "4c8de08a",
   "metadata": {},
   "outputs": [],
   "source": [
    "data = pd.read_excel('./환경데이터(최종).xlsx')"
   ]
  },
  {
   "cell_type": "code",
   "execution_count": 4,
   "id": "0b9e5a4b",
   "metadata": {},
   "outputs": [],
   "source": [
    "data.drop(columns=['Unnamed: 0', 'Unnamed: 18', 'Unnamed: 19', 'Unnamed: 20', 'Unnamed: 21', 'Unnamed: 22'], axis=1, inplace=True)"
   ]
  },
  {
   "cell_type": "code",
   "execution_count": 5,
   "id": "609b2d2f",
   "metadata": {},
   "outputs": [
    {
     "data": {
      "text/html": [
       "<div>\n",
       "<style scoped>\n",
       "    .dataframe tbody tr th:only-of-type {\n",
       "        vertical-align: middle;\n",
       "    }\n",
       "\n",
       "    .dataframe tbody tr th {\n",
       "        vertical-align: top;\n",
       "    }\n",
       "\n",
       "    .dataframe thead th {\n",
       "        text-align: right;\n",
       "    }\n",
       "</style>\n",
       "<table border=\"1\" class=\"dataframe\">\n",
       "  <thead>\n",
       "    <tr style=\"text-align: right;\">\n",
       "      <th></th>\n",
       "      <th>종목코드</th>\n",
       "      <th>종목명</th>\n",
       "      <th>종가</th>\n",
       "      <th>대비</th>\n",
       "      <th>등락률</th>\n",
       "      <th>상장시가총액</th>\n",
       "      <th>고유번호</th>\n",
       "      <th>업종코드</th>\n",
       "      <th>업종대분류</th>\n",
       "      <th>온실가스배출량</th>\n",
       "      <th>에너지사용량</th>\n",
       "      <th>매출액</th>\n",
       "      <th>온실가스배출량/매출액(tCO2/억원)</th>\n",
       "      <th>에너지사용량/매출액(TJ/억원)</th>\n",
       "      <th>온실가스 점수</th>\n",
       "      <th>에너지 점수</th>\n",
       "      <th>환경 점수</th>\n",
       "    </tr>\n",
       "  </thead>\n",
       "  <tbody>\n",
       "    <tr>\n",
       "      <th>0</th>\n",
       "      <td>5930</td>\n",
       "      <td>삼성전자</td>\n",
       "      <td>77400</td>\n",
       "      <td>800</td>\n",
       "      <td>1.04</td>\n",
       "      <td>462061169</td>\n",
       "      <td>126380</td>\n",
       "      <td>264</td>\n",
       "      <td>제조업</td>\n",
       "      <td>12531900.0</td>\n",
       "      <td>177122.0</td>\n",
       "      <td>1.663112e+14</td>\n",
       "      <td>7.54</td>\n",
       "      <td>0.1065</td>\n",
       "      <td>70</td>\n",
       "      <td>80</td>\n",
       "      <td>75</td>\n",
       "    </tr>\n",
       "    <tr>\n",
       "      <th>1</th>\n",
       "      <td>660</td>\n",
       "      <td>SK하이닉스</td>\n",
       "      <td>106000</td>\n",
       "      <td>-1000</td>\n",
       "      <td>-0.93</td>\n",
       "      <td>77168251</td>\n",
       "      <td>164779</td>\n",
       "      <td>2612</td>\n",
       "      <td>제조업</td>\n",
       "      <td>4691884.0</td>\n",
       "      <td>80758.0</td>\n",
       "      <td>3.052499e+13</td>\n",
       "      <td>15.37</td>\n",
       "      <td>0.2646</td>\n",
       "      <td>70</td>\n",
       "      <td>80</td>\n",
       "      <td>75</td>\n",
       "    </tr>\n",
       "    <tr>\n",
       "      <th>2</th>\n",
       "      <td>35420</td>\n",
       "      <td>NAVER</td>\n",
       "      <td>451500</td>\n",
       "      <td>-1000</td>\n",
       "      <td>-0.22</td>\n",
       "      <td>74164923</td>\n",
       "      <td>266961</td>\n",
       "      <td>63120</td>\n",
       "      <td>정보통신업</td>\n",
       "      <td>77420.0</td>\n",
       "      <td>1398.0</td>\n",
       "      <td>4.126629e+12</td>\n",
       "      <td>1.88</td>\n",
       "      <td>0.0339</td>\n",
       "      <td>80</td>\n",
       "      <td>90</td>\n",
       "      <td>85</td>\n",
       "    </tr>\n",
       "    <tr>\n",
       "      <th>3</th>\n",
       "      <td>35720</td>\n",
       "      <td>카카오</td>\n",
       "      <td>154000</td>\n",
       "      <td>-2500</td>\n",
       "      <td>-1.60</td>\n",
       "      <td>68484900</td>\n",
       "      <td>258801</td>\n",
       "      <td>63120</td>\n",
       "      <td>정보통신업</td>\n",
       "      <td>76926.0</td>\n",
       "      <td>1585.0</td>\n",
       "      <td>1.779200e+12</td>\n",
       "      <td>4.32</td>\n",
       "      <td>0.0891</td>\n",
       "      <td>80</td>\n",
       "      <td>90</td>\n",
       "      <td>85</td>\n",
       "    </tr>\n",
       "    <tr>\n",
       "      <th>4</th>\n",
       "      <td>207940</td>\n",
       "      <td>삼성바이오로직스</td>\n",
       "      <td>951000</td>\n",
       "      <td>0</td>\n",
       "      <td>0.00</td>\n",
       "      <td>62922915</td>\n",
       "      <td>877059</td>\n",
       "      <td>21102</td>\n",
       "      <td>제조업</td>\n",
       "      <td>124807.0</td>\n",
       "      <td>2529.0</td>\n",
       "      <td>1.164777e+12</td>\n",
       "      <td>10.72</td>\n",
       "      <td>0.2171</td>\n",
       "      <td>70</td>\n",
       "      <td>80</td>\n",
       "      <td>75</td>\n",
       "    </tr>\n",
       "  </tbody>\n",
       "</table>\n",
       "</div>"
      ],
      "text/plain": [
       "     종목코드       종목명      종가    대비   등락률     상장시가총액    고유번호   업종코드  업종대분류  \\\n",
       "0    5930      삼성전자   77400   800  1.04  462061169  126380    264    제조업   \n",
       "1     660    SK하이닉스  106000 -1000 -0.93   77168251  164779   2612    제조업   \n",
       "2   35420     NAVER  451500 -1000 -0.22   74164923  266961  63120  정보통신업   \n",
       "3   35720       카카오  154000 -2500 -1.60   68484900  258801  63120  정보통신업   \n",
       "4  207940  삼성바이오로직스  951000     0  0.00   62922915  877059  21102    제조업   \n",
       "\n",
       "      온실가스배출량    에너지사용량           매출액  온실가스배출량/매출액(tCO2/억원)  \\\n",
       "0  12531900.0  177122.0  1.663112e+14                  7.54   \n",
       "1   4691884.0   80758.0  3.052499e+13                 15.37   \n",
       "2     77420.0    1398.0  4.126629e+12                  1.88   \n",
       "3     76926.0    1585.0  1.779200e+12                  4.32   \n",
       "4    124807.0    2529.0  1.164777e+12                 10.72   \n",
       "\n",
       "   에너지사용량/매출액(TJ/억원)  온실가스 점수  에너지 점수  환경 점수  \n",
       "0             0.1065       70      80     75  \n",
       "1             0.2646       70      80     75  \n",
       "2             0.0339       80      90     85  \n",
       "3             0.0891       80      90     85  \n",
       "4             0.2171       70      80     75  "
      ]
     },
     "execution_count": 5,
     "metadata": {},
     "output_type": "execute_result"
    }
   ],
   "source": [
    "data.head()"
   ]
  },
  {
   "cell_type": "code",
   "execution_count": 6,
   "id": "d1f8c5f3",
   "metadata": {},
   "outputs": [],
   "source": [
    "co2 = data[['업종대분류', '온실가스배출량/매출액(tCO2/억원)']]"
   ]
  },
  {
   "cell_type": "code",
   "execution_count": 7,
   "id": "c8f688fb",
   "metadata": {},
   "outputs": [
    {
     "data": {
      "text/html": [
       "<div>\n",
       "<style scoped>\n",
       "    .dataframe tbody tr th:only-of-type {\n",
       "        vertical-align: middle;\n",
       "    }\n",
       "\n",
       "    .dataframe tbody tr th {\n",
       "        vertical-align: top;\n",
       "    }\n",
       "\n",
       "    .dataframe thead th {\n",
       "        text-align: right;\n",
       "    }\n",
       "</style>\n",
       "<table border=\"1\" class=\"dataframe\">\n",
       "  <thead>\n",
       "    <tr style=\"text-align: right;\">\n",
       "      <th></th>\n",
       "      <th>업종대분류</th>\n",
       "      <th>온실가스배출량/매출액(tCO2/억원)</th>\n",
       "    </tr>\n",
       "  </thead>\n",
       "  <tbody>\n",
       "    <tr>\n",
       "      <th>0</th>\n",
       "      <td>제조업</td>\n",
       "      <td>7.54</td>\n",
       "    </tr>\n",
       "    <tr>\n",
       "      <th>1</th>\n",
       "      <td>제조업</td>\n",
       "      <td>15.37</td>\n",
       "    </tr>\n",
       "    <tr>\n",
       "      <th>2</th>\n",
       "      <td>정보통신업</td>\n",
       "      <td>1.88</td>\n",
       "    </tr>\n",
       "    <tr>\n",
       "      <th>3</th>\n",
       "      <td>정보통신업</td>\n",
       "      <td>4.32</td>\n",
       "    </tr>\n",
       "    <tr>\n",
       "      <th>4</th>\n",
       "      <td>제조업</td>\n",
       "      <td>10.72</td>\n",
       "    </tr>\n",
       "  </tbody>\n",
       "</table>\n",
       "</div>"
      ],
      "text/plain": [
       "   업종대분류  온실가스배출량/매출액(tCO2/억원)\n",
       "0    제조업                  7.54\n",
       "1    제조업                 15.37\n",
       "2  정보통신업                  1.88\n",
       "3  정보통신업                  4.32\n",
       "4    제조업                 10.72"
      ]
     },
     "execution_count": 7,
     "metadata": {},
     "output_type": "execute_result"
    }
   ],
   "source": [
    "co2.head()"
   ]
  },
  {
   "cell_type": "code",
   "execution_count": 9,
   "id": "8f4f118e",
   "metadata": {},
   "outputs": [
    {
     "data": {
      "text/plain": [
       "제조업                         107\n",
       "금융 및 보험업                     34\n",
       "도매 및 소매업                     22\n",
       "정보통신업                        10\n",
       "건설업                           6\n",
       "전문, 과학 및 기술 서비스업              6\n",
       "운수 및 창고업                      5\n",
       "사업시설 관리, 사업 지원 및 임대 서비스업      3\n",
       "전기, 가스, 증기 및 공기 조절 공급업        2\n",
       "예술, 스포츠 및 여가관련 서비스업           2\n",
       "농업, 임업 및 어업                   1\n",
       "부동산업                          1\n",
       "협회 및 단체, 수리 및 기타 개인 서비스업      1\n",
       "Name: 업종대분류, dtype: int64"
      ]
     },
     "execution_count": 9,
     "metadata": {},
     "output_type": "execute_result"
    }
   ],
   "source": [
    "co2['업종대분류'].value_counts()"
   ]
  },
  {
   "cell_type": "code",
   "execution_count": null,
   "id": "4ba4efb4",
   "metadata": {},
   "outputs": [],
   "source": []
  },
  {
   "cell_type": "code",
   "execution_count": null,
   "id": "1014d665",
   "metadata": {},
   "outputs": [],
   "source": []
  },
  {
   "cell_type": "code",
   "execution_count": null,
   "id": "9bd661c4",
   "metadata": {},
   "outputs": [],
   "source": []
  },
  {
   "cell_type": "code",
   "execution_count": null,
   "id": "fc35eb7b",
   "metadata": {},
   "outputs": [],
   "source": []
  },
  {
   "cell_type": "markdown",
   "id": "67d0454e",
   "metadata": {},
   "source": [
    "# 온실가스"
   ]
  },
  {
   "cell_type": "markdown",
   "id": "dbf4843e",
   "metadata": {},
   "source": [
    "### 제조업"
   ]
  },
  {
   "cell_type": "code",
   "execution_count": 13,
   "id": "8265a949",
   "metadata": {},
   "outputs": [
    {
     "data": {
      "text/html": [
       "<div>\n",
       "<style scoped>\n",
       "    .dataframe tbody tr th:only-of-type {\n",
       "        vertical-align: middle;\n",
       "    }\n",
       "\n",
       "    .dataframe tbody tr th {\n",
       "        vertical-align: top;\n",
       "    }\n",
       "\n",
       "    .dataframe thead th {\n",
       "        text-align: right;\n",
       "    }\n",
       "</style>\n",
       "<table border=\"1\" class=\"dataframe\">\n",
       "  <thead>\n",
       "    <tr style=\"text-align: right;\">\n",
       "      <th></th>\n",
       "      <th>업종대분류</th>\n",
       "      <th>온실가스배출량/매출액(tCO2/억원)</th>\n",
       "    </tr>\n",
       "  </thead>\n",
       "  <tbody>\n",
       "    <tr>\n",
       "      <th>0</th>\n",
       "      <td>제조업</td>\n",
       "      <td>7.54</td>\n",
       "    </tr>\n",
       "    <tr>\n",
       "      <th>1</th>\n",
       "      <td>제조업</td>\n",
       "      <td>15.37</td>\n",
       "    </tr>\n",
       "    <tr>\n",
       "      <th>4</th>\n",
       "      <td>제조업</td>\n",
       "      <td>10.72</td>\n",
       "    </tr>\n",
       "    <tr>\n",
       "      <th>5</th>\n",
       "      <td>제조업</td>\n",
       "      <td>39.25</td>\n",
       "    </tr>\n",
       "    <tr>\n",
       "      <th>6</th>\n",
       "      <td>제조업</td>\n",
       "      <td>6.17</td>\n",
       "    </tr>\n",
       "    <tr>\n",
       "      <th>...</th>\n",
       "      <td>...</td>\n",
       "      <td>...</td>\n",
       "    </tr>\n",
       "    <tr>\n",
       "      <th>188</th>\n",
       "      <td>제조업</td>\n",
       "      <td>5.59</td>\n",
       "    </tr>\n",
       "    <tr>\n",
       "      <th>189</th>\n",
       "      <td>제조업</td>\n",
       "      <td>14.69</td>\n",
       "    </tr>\n",
       "    <tr>\n",
       "      <th>191</th>\n",
       "      <td>제조업</td>\n",
       "      <td>4.45</td>\n",
       "    </tr>\n",
       "    <tr>\n",
       "      <th>193</th>\n",
       "      <td>제조업</td>\n",
       "      <td>2.14</td>\n",
       "    </tr>\n",
       "    <tr>\n",
       "      <th>196</th>\n",
       "      <td>제조업</td>\n",
       "      <td>19.53</td>\n",
       "    </tr>\n",
       "  </tbody>\n",
       "</table>\n",
       "<p>90 rows × 2 columns</p>\n",
       "</div>"
      ],
      "text/plain": [
       "    업종대분류  온실가스배출량/매출액(tCO2/억원)\n",
       "0     제조업                  7.54\n",
       "1     제조업                 15.37\n",
       "4     제조업                 10.72\n",
       "5     제조업                 39.25\n",
       "6     제조업                  6.17\n",
       "..    ...                   ...\n",
       "188   제조업                  5.59\n",
       "189   제조업                 14.69\n",
       "191   제조업                  4.45\n",
       "193   제조업                  2.14\n",
       "196   제조업                 19.53\n",
       "\n",
       "[90 rows x 2 columns]"
      ]
     },
     "execution_count": 13,
     "metadata": {},
     "output_type": "execute_result"
    }
   ],
   "source": [
    "co2_제조업 = co2[co2['업종대분류']=='제조업'].dropna()\n",
    "co2_제조업"
   ]
  },
  {
   "cell_type": "code",
   "execution_count": null,
   "id": "fe5b3b9c",
   "metadata": {},
   "outputs": [],
   "source": [
    "co2_제조업_이상치제거 = co2_제조업.drop(co2_제조업[co2_제조업['온실가스배출량/매출액(tCO2/억원)']>30000], axis=0)"
   ]
  },
  {
   "cell_type": "code",
   "execution_count": 16,
   "id": "0cb47c86",
   "metadata": {
    "collapsed": true
   },
   "outputs": [
    {
     "data": {
      "text/plain": [
       "Text(0.5, 1.0, '온실가스 배출량 분포')"
      ]
     },
     "execution_count": 16,
     "metadata": {},
     "output_type": "execute_result"
    },
    {
     "data": {
      "image/png": "[encoded data removed]",
      "text/plain": [
       "<Figure size 720x1080 with 1 Axes>"
      ]
     },
     "metadata": {},
     "output_type": "display_data"
    }
   ],
   "source": [
    "plt.figure(figsize = (10,15))\n",
    "sns.boxplot(data=co2_제조업['온실가스배출량/매출액(tCO2/억원)'])\n",
    "plt.title('온실가스 배출량 분포')"
   ]
  },
  {
   "cell_type": "code",
   "execution_count": 17,
   "id": "f8914858",
   "metadata": {},
   "outputs": [
    {
     "name": "stderr",
     "output_type": "stream",
     "text": [
      "No handles with labels found to put in legend.\n"
     ]
    },
    {
     "data": {
      "image/png": "[encoded data removed]",
      "text/plain": [
       "<Figure size 432x288 with 1 Axes>"
      ]
     },
     "metadata": {},
     "output_type": "display_data"
    }
   ],
   "source": [
    "plt.hist(co2_제조업['온실가스배출량/매출액(tCO2/억원)'], bins=100)\n",
    "plt.legend()\n",
    "plt.show()"
   ]
  },
  {
   "cell_type": "code",
   "execution_count": 18,
   "id": "f6b6b77c",
   "metadata": {},
   "outputs": [
    {
     "data": {
      "text/html": [
       "<div>\n",
       "<style scoped>\n",
       "    .dataframe tbody tr th:only-of-type {\n",
       "        vertical-align: middle;\n",
       "    }\n",
       "\n",
       "    .dataframe tbody tr th {\n",
       "        vertical-align: top;\n",
       "    }\n",
       "\n",
       "    .dataframe thead th {\n",
       "        text-align: right;\n",
       "    }\n",
       "</style>\n",
       "<table border=\"1\" class=\"dataframe\">\n",
       "  <thead>\n",
       "    <tr style=\"text-align: right;\">\n",
       "      <th></th>\n",
       "      <th>온실가스배출량/매출액(tCO2/억원)</th>\n",
       "    </tr>\n",
       "  </thead>\n",
       "  <tbody>\n",
       "    <tr>\n",
       "      <th>count</th>\n",
       "      <td>90.000000</td>\n",
       "    </tr>\n",
       "    <tr>\n",
       "      <th>mean</th>\n",
       "      <td>33.192556</td>\n",
       "    </tr>\n",
       "    <tr>\n",
       "      <th>std</th>\n",
       "      <td>57.878802</td>\n",
       "    </tr>\n",
       "    <tr>\n",
       "      <th>min</th>\n",
       "      <td>0.010000</td>\n",
       "    </tr>\n",
       "    <tr>\n",
       "      <th>25%</th>\n",
       "      <td>2.720000</td>\n",
       "    </tr>\n",
       "    <tr>\n",
       "      <th>50%</th>\n",
       "      <td>8.000000</td>\n",
       "    </tr>\n",
       "    <tr>\n",
       "      <th>75%</th>\n",
       "      <td>33.157500</td>\n",
       "    </tr>\n",
       "    <tr>\n",
       "      <th>max</th>\n",
       "      <td>285.440000</td>\n",
       "    </tr>\n",
       "  </tbody>\n",
       "</table>\n",
       "</div>"
      ],
      "text/plain": [
       "       온실가스배출량/매출액(tCO2/억원)\n",
       "count             90.000000\n",
       "mean              33.192556\n",
       "std               57.878802\n",
       "min                0.010000\n",
       "25%                2.720000\n",
       "50%                8.000000\n",
       "75%               33.157500\n",
       "max              285.440000"
      ]
     },
     "execution_count": 18,
     "metadata": {},
     "output_type": "execute_result"
    }
   ],
   "source": [
    "co2_제조업.describe()"
   ]
  },
  {
   "cell_type": "code",
   "execution_count": 20,
   "id": "60ee9771",
   "metadata": {},
   "outputs": [
    {
     "name": "stdout",
     "output_type": "stream",
     "text": [
      "<class 'pandas.core.frame.DataFrame'>\n",
      "Int64Index: 90 entries, 0 to 196\n",
      "Data columns (total 2 columns):\n",
      " #   Column                Non-Null Count  Dtype  \n",
      "---  ------                --------------  -----  \n",
      " 0   업종대분류                 90 non-null     object \n",
      " 1   온실가스배출량/매출액(tCO2/억원)  90 non-null     float64\n",
      "dtypes: float64(1), object(1)\n",
      "memory usage: 4.2+ KB\n"
     ]
    }
   ],
   "source": [
    "co2_제조업.info()"
   ]
  },
  {
   "cell_type": "code",
   "execution_count": 21,
   "id": "51450d96",
   "metadata": {},
   "outputs": [
    {
     "data": {
      "text/plain": [
       "array([ 2.29 ,  5.6  , 14.435, 40.835])"
      ]
     },
     "execution_count": 21,
     "metadata": {},
     "output_type": "execute_result"
    }
   ],
   "source": [
    "np.percentile(co2_제조업['온실가스배출량/매출액(tCO2/억원)'], [20, 40, 60, 80], interpolation='midpoint')"
   ]
  },
  {
   "cell_type": "code",
   "execution_count": null,
   "id": "4f9cee1e",
   "metadata": {},
   "outputs": [],
   "source": []
  },
  {
   "cell_type": "markdown",
   "id": "e239efc5",
   "metadata": {},
   "source": [
    "### 금융 및 보험업"
   ]
  },
  {
   "cell_type": "code",
   "execution_count": 22,
   "id": "d77ba129",
   "metadata": {},
   "outputs": [
    {
     "data": {
      "text/html": [
       "<div>\n",
       "<style scoped>\n",
       "    .dataframe tbody tr th:only-of-type {\n",
       "        vertical-align: middle;\n",
       "    }\n",
       "\n",
       "    .dataframe tbody tr th {\n",
       "        vertical-align: top;\n",
       "    }\n",
       "\n",
       "    .dataframe thead th {\n",
       "        text-align: right;\n",
       "    }\n",
       "</style>\n",
       "<table border=\"1\" class=\"dataframe\">\n",
       "  <thead>\n",
       "    <tr style=\"text-align: right;\">\n",
       "      <th></th>\n",
       "      <th>업종대분류</th>\n",
       "      <th>온실가스배출량/매출액(tCO2/억원)</th>\n",
       "    </tr>\n",
       "  </thead>\n",
       "  <tbody>\n",
       "    <tr>\n",
       "      <th>18</th>\n",
       "      <td>금융 및 보험업</td>\n",
       "      <td>8.75</td>\n",
       "    </tr>\n",
       "    <tr>\n",
       "      <th>19</th>\n",
       "      <td>금융 및 보험업</td>\n",
       "      <td>5.39</td>\n",
       "    </tr>\n",
       "    <tr>\n",
       "      <th>20</th>\n",
       "      <td>금융 및 보험업</td>\n",
       "      <td>1.84</td>\n",
       "    </tr>\n",
       "    <tr>\n",
       "      <th>24</th>\n",
       "      <td>금융 및 보험업</td>\n",
       "      <td>0.23</td>\n",
       "    </tr>\n",
       "    <tr>\n",
       "      <th>29</th>\n",
       "      <td>금융 및 보험업</td>\n",
       "      <td>12.18</td>\n",
       "    </tr>\n",
       "    <tr>\n",
       "      <th>37</th>\n",
       "      <td>금융 및 보험업</td>\n",
       "      <td>0.06</td>\n",
       "    </tr>\n",
       "    <tr>\n",
       "      <th>44</th>\n",
       "      <td>금융 및 보험업</td>\n",
       "      <td>11.39</td>\n",
       "    </tr>\n",
       "    <tr>\n",
       "      <th>47</th>\n",
       "      <td>금융 및 보험업</td>\n",
       "      <td>0.37</td>\n",
       "    </tr>\n",
       "    <tr>\n",
       "      <th>59</th>\n",
       "      <td>금융 및 보험업</td>\n",
       "      <td>0.09</td>\n",
       "    </tr>\n",
       "    <tr>\n",
       "      <th>63</th>\n",
       "      <td>금융 및 보험업</td>\n",
       "      <td>198.13</td>\n",
       "    </tr>\n",
       "    <tr>\n",
       "      <th>72</th>\n",
       "      <td>금융 및 보험업</td>\n",
       "      <td>0.01</td>\n",
       "    </tr>\n",
       "    <tr>\n",
       "      <th>73</th>\n",
       "      <td>금융 및 보험업</td>\n",
       "      <td>0.16</td>\n",
       "    </tr>\n",
       "    <tr>\n",
       "      <th>76</th>\n",
       "      <td>금융 및 보험업</td>\n",
       "      <td>0.06</td>\n",
       "    </tr>\n",
       "    <tr>\n",
       "      <th>85</th>\n",
       "      <td>금융 및 보험업</td>\n",
       "      <td>0.01</td>\n",
       "    </tr>\n",
       "    <tr>\n",
       "      <th>86</th>\n",
       "      <td>금융 및 보험업</td>\n",
       "      <td>0.02</td>\n",
       "    </tr>\n",
       "    <tr>\n",
       "      <th>112</th>\n",
       "      <td>금융 및 보험업</td>\n",
       "      <td>0.03</td>\n",
       "    </tr>\n",
       "    <tr>\n",
       "      <th>120</th>\n",
       "      <td>금융 및 보험업</td>\n",
       "      <td>7.97</td>\n",
       "    </tr>\n",
       "    <tr>\n",
       "      <th>123</th>\n",
       "      <td>금융 및 보험업</td>\n",
       "      <td>10.85</td>\n",
       "    </tr>\n",
       "    <tr>\n",
       "      <th>125</th>\n",
       "      <td>금융 및 보험업</td>\n",
       "      <td>0.12</td>\n",
       "    </tr>\n",
       "    <tr>\n",
       "      <th>131</th>\n",
       "      <td>금융 및 보험업</td>\n",
       "      <td>73.57</td>\n",
       "    </tr>\n",
       "    <tr>\n",
       "      <th>147</th>\n",
       "      <td>금융 및 보험업</td>\n",
       "      <td>19.85</td>\n",
       "    </tr>\n",
       "    <tr>\n",
       "      <th>148</th>\n",
       "      <td>금융 및 보험업</td>\n",
       "      <td>53.56</td>\n",
       "    </tr>\n",
       "    <tr>\n",
       "      <th>192</th>\n",
       "      <td>금융 및 보험업</td>\n",
       "      <td>0.27</td>\n",
       "    </tr>\n",
       "  </tbody>\n",
       "</table>\n",
       "</div>"
      ],
      "text/plain": [
       "        업종대분류  온실가스배출량/매출액(tCO2/억원)\n",
       "18   금융 및 보험업                  8.75\n",
       "19   금융 및 보험업                  5.39\n",
       "20   금융 및 보험업                  1.84\n",
       "24   금융 및 보험업                  0.23\n",
       "29   금융 및 보험업                 12.18\n",
       "37   금융 및 보험업                  0.06\n",
       "44   금융 및 보험업                 11.39\n",
       "47   금융 및 보험업                  0.37\n",
       "59   금융 및 보험업                  0.09\n",
       "63   금융 및 보험업                198.13\n",
       "72   금융 및 보험업                  0.01\n",
       "73   금융 및 보험업                  0.16\n",
       "76   금융 및 보험업                  0.06\n",
       "85   금융 및 보험업                  0.01\n",
       "86   금융 및 보험업                  0.02\n",
       "112  금융 및 보험업                  0.03\n",
       "120  금융 및 보험업                  7.97\n",
       "123  금융 및 보험업                 10.85\n",
       "125  금융 및 보험업                  0.12\n",
       "131  금융 및 보험업                 73.57\n",
       "147  금융 및 보험업                 19.85\n",
       "148  금융 및 보험업                 53.56\n",
       "192  금융 및 보험업                  0.27"
      ]
     },
     "execution_count": 22,
     "metadata": {},
     "output_type": "execute_result"
    }
   ],
   "source": [
    "co2_금융 = co2[co2['업종대분류']=='금융 및 보험업'].dropna()\n",
    "co2_금융"
   ]
  },
  {
   "cell_type": "code",
   "execution_count": 26,
   "id": "bbc42450",
   "metadata": {},
   "outputs": [
    {
     "name": "stderr",
     "output_type": "stream",
     "text": [
      "No handles with labels found to put in legend.\n"
     ]
    },
    {
     "data": {
      "image/png": "[encoded data removed]",
      "text/plain": [
       "<Figure size 432x288 with 1 Axes>"
      ]
     },
     "metadata": {},
     "output_type": "display_data"
    }
   ],
   "source": [
    "plt.hist(co2_금융['온실가스배출량/매출액(tCO2/억원)'], bins=100)\n",
    "plt.legend()\n",
    "plt.show()"
   ]
  },
  {
   "cell_type": "code",
   "execution_count": 27,
   "id": "d1152f31",
   "metadata": {},
   "outputs": [
    {
     "data": {
      "text/plain": [
       "array([ 0.06 ,  0.195,  6.68 , 11.785])"
      ]
     },
     "execution_count": 27,
     "metadata": {},
     "output_type": "execute_result"
    }
   ],
   "source": [
    "np.percentile(co2_금융['온실가스배출량/매출액(tCO2/억원)'], [20, 40, 60, 80], interpolation='midpoint')"
   ]
  },
  {
   "cell_type": "code",
   "execution_count": null,
   "id": "da37a716",
   "metadata": {},
   "outputs": [],
   "source": []
  },
  {
   "cell_type": "markdown",
   "id": "4a5abd52",
   "metadata": {},
   "source": [
    "### 도매 및 소매업"
   ]
  },
  {
   "cell_type": "code",
   "execution_count": 28,
   "id": "5deb8b98",
   "metadata": {},
   "outputs": [
    {
     "data": {
      "text/html": [
       "<div>\n",
       "<style scoped>\n",
       "    .dataframe tbody tr th:only-of-type {\n",
       "        vertical-align: middle;\n",
       "    }\n",
       "\n",
       "    .dataframe tbody tr th {\n",
       "        vertical-align: top;\n",
       "    }\n",
       "\n",
       "    .dataframe thead th {\n",
       "        text-align: right;\n",
       "    }\n",
       "</style>\n",
       "<table border=\"1\" class=\"dataframe\">\n",
       "  <thead>\n",
       "    <tr style=\"text-align: right;\">\n",
       "      <th></th>\n",
       "      <th>업종대분류</th>\n",
       "      <th>온실가스배출량/매출액(tCO2/억원)</th>\n",
       "    </tr>\n",
       "  </thead>\n",
       "  <tbody>\n",
       "    <tr>\n",
       "      <th>12</th>\n",
       "      <td>도매 및 소매업</td>\n",
       "      <td>0.45</td>\n",
       "    </tr>\n",
       "    <tr>\n",
       "      <th>35</th>\n",
       "      <td>도매 및 소매업</td>\n",
       "      <td>4.95</td>\n",
       "    </tr>\n",
       "    <tr>\n",
       "      <th>64</th>\n",
       "      <td>도매 및 소매업</td>\n",
       "      <td>3.66</td>\n",
       "    </tr>\n",
       "    <tr>\n",
       "      <th>70</th>\n",
       "      <td>도매 및 소매업</td>\n",
       "      <td>32137.04</td>\n",
       "    </tr>\n",
       "    <tr>\n",
       "      <th>91</th>\n",
       "      <td>도매 및 소매업</td>\n",
       "      <td>0.70</td>\n",
       "    </tr>\n",
       "    <tr>\n",
       "      <th>93</th>\n",
       "      <td>도매 및 소매업</td>\n",
       "      <td>2.98</td>\n",
       "    </tr>\n",
       "    <tr>\n",
       "      <th>100</th>\n",
       "      <td>도매 및 소매업</td>\n",
       "      <td>7.72</td>\n",
       "    </tr>\n",
       "    <tr>\n",
       "      <th>104</th>\n",
       "      <td>도매 및 소매업</td>\n",
       "      <td>0.85</td>\n",
       "    </tr>\n",
       "    <tr>\n",
       "      <th>106</th>\n",
       "      <td>도매 및 소매업</td>\n",
       "      <td>0.31</td>\n",
       "    </tr>\n",
       "    <tr>\n",
       "      <th>108</th>\n",
       "      <td>도매 및 소매업</td>\n",
       "      <td>20.37</td>\n",
       "    </tr>\n",
       "    <tr>\n",
       "      <th>110</th>\n",
       "      <td>도매 및 소매업</td>\n",
       "      <td>0.40</td>\n",
       "    </tr>\n",
       "    <tr>\n",
       "      <th>114</th>\n",
       "      <td>도매 및 소매업</td>\n",
       "      <td>700.27</td>\n",
       "    </tr>\n",
       "    <tr>\n",
       "      <th>116</th>\n",
       "      <td>도매 및 소매업</td>\n",
       "      <td>8.42</td>\n",
       "    </tr>\n",
       "    <tr>\n",
       "      <th>134</th>\n",
       "      <td>도매 및 소매업</td>\n",
       "      <td>11.60</td>\n",
       "    </tr>\n",
       "    <tr>\n",
       "      <th>141</th>\n",
       "      <td>도매 및 소매업</td>\n",
       "      <td>8.69</td>\n",
       "    </tr>\n",
       "    <tr>\n",
       "      <th>157</th>\n",
       "      <td>도매 및 소매업</td>\n",
       "      <td>0.04</td>\n",
       "    </tr>\n",
       "    <tr>\n",
       "      <th>158</th>\n",
       "      <td>도매 및 소매업</td>\n",
       "      <td>0.31</td>\n",
       "    </tr>\n",
       "    <tr>\n",
       "      <th>174</th>\n",
       "      <td>도매 및 소매업</td>\n",
       "      <td>0.28</td>\n",
       "    </tr>\n",
       "    <tr>\n",
       "      <th>181</th>\n",
       "      <td>도매 및 소매업</td>\n",
       "      <td>0.21</td>\n",
       "    </tr>\n",
       "    <tr>\n",
       "      <th>190</th>\n",
       "      <td>도매 및 소매업</td>\n",
       "      <td>0.70</td>\n",
       "    </tr>\n",
       "  </tbody>\n",
       "</table>\n",
       "</div>"
      ],
      "text/plain": [
       "        업종대분류  온실가스배출량/매출액(tCO2/억원)\n",
       "12   도매 및 소매업                  0.45\n",
       "35   도매 및 소매업                  4.95\n",
       "64   도매 및 소매업                  3.66\n",
       "70   도매 및 소매업              32137.04\n",
       "91   도매 및 소매업                  0.70\n",
       "93   도매 및 소매업                  2.98\n",
       "100  도매 및 소매업                  7.72\n",
       "104  도매 및 소매업                  0.85\n",
       "106  도매 및 소매업                  0.31\n",
       "108  도매 및 소매업                 20.37\n",
       "110  도매 및 소매업                  0.40\n",
       "114  도매 및 소매업                700.27\n",
       "116  도매 및 소매업                  8.42\n",
       "134  도매 및 소매업                 11.60\n",
       "141  도매 및 소매업                  8.69\n",
       "157  도매 및 소매업                  0.04\n",
       "158  도매 및 소매업                  0.31\n",
       "174  도매 및 소매업                  0.28\n",
       "181  도매 및 소매업                  0.21\n",
       "190  도매 및 소매업                  0.70"
      ]
     },
     "execution_count": 28,
     "metadata": {},
     "output_type": "execute_result"
    }
   ],
   "source": [
    "co2_도소매 = co2[co2['업종대분류']=='도매 및 소매업'].dropna()\n",
    "co2_도소매"
   ]
  },
  {
   "cell_type": "code",
   "execution_count": 29,
   "id": "44b5a34f",
   "metadata": {},
   "outputs": [
    {
     "name": "stderr",
     "output_type": "stream",
     "text": [
      "No handles with labels found to put in legend.\n"
     ]
    },
    {
     "data": {
      "image/png": "[encoded data removed]",
      "text/plain": [
       "<Figure size 432x288 with 1 Axes>"
      ]
     },
     "metadata": {},
     "output_type": "display_data"
    }
   ],
   "source": [
    "plt.hist(co2_도소매['온실가스배출량/매출액(tCO2/억원)'], bins=100)\n",
    "plt.legend()\n",
    "plt.show()"
   ]
  },
  {
   "cell_type": "code",
   "execution_count": 30,
   "id": "212ff4a2",
   "metadata": {},
   "outputs": [
    {
     "data": {
      "text/plain": [
       "array([ 0.31 ,  0.7  ,  4.305, 10.145])"
      ]
     },
     "execution_count": 30,
     "metadata": {},
     "output_type": "execute_result"
    }
   ],
   "source": [
    "np.percentile(co2_도소매['온실가스배출량/매출액(tCO2/억원)'], [20, 40, 60, 80], interpolation='midpoint')"
   ]
  },
  {
   "cell_type": "code",
   "execution_count": null,
   "id": "64c7c3d0",
   "metadata": {},
   "outputs": [],
   "source": []
  },
  {
   "cell_type": "markdown",
   "id": "084a50ea",
   "metadata": {},
   "source": [
    "### 정보통신업"
   ]
  },
  {
   "cell_type": "code",
   "execution_count": 31,
   "id": "4a3cdaa5",
   "metadata": {},
   "outputs": [
    {
     "data": {
      "text/html": [
       "<div>\n",
       "<style scoped>\n",
       "    .dataframe tbody tr th:only-of-type {\n",
       "        vertical-align: middle;\n",
       "    }\n",
       "\n",
       "    .dataframe tbody tr th {\n",
       "        vertical-align: top;\n",
       "    }\n",
       "\n",
       "    .dataframe thead th {\n",
       "        text-align: right;\n",
       "    }\n",
       "</style>\n",
       "<table border=\"1\" class=\"dataframe\">\n",
       "  <thead>\n",
       "    <tr style=\"text-align: right;\">\n",
       "      <th></th>\n",
       "      <th>업종대분류</th>\n",
       "      <th>온실가스배출량/매출액(tCO2/억원)</th>\n",
       "    </tr>\n",
       "  </thead>\n",
       "  <tbody>\n",
       "    <tr>\n",
       "      <th>2</th>\n",
       "      <td>정보통신업</td>\n",
       "      <td>1.88</td>\n",
       "    </tr>\n",
       "    <tr>\n",
       "      <th>3</th>\n",
       "      <td>정보통신업</td>\n",
       "      <td>4.32</td>\n",
       "    </tr>\n",
       "    <tr>\n",
       "      <th>17</th>\n",
       "      <td>정보통신업</td>\n",
       "      <td>8.85</td>\n",
       "    </tr>\n",
       "    <tr>\n",
       "      <th>27</th>\n",
       "      <td>정보통신업</td>\n",
       "      <td>0.60</td>\n",
       "    </tr>\n",
       "    <tr>\n",
       "      <th>28</th>\n",
       "      <td>정보통신업</td>\n",
       "      <td>2.09</td>\n",
       "    </tr>\n",
       "    <tr>\n",
       "      <th>52</th>\n",
       "      <td>정보통신업</td>\n",
       "      <td>10.46</td>\n",
       "    </tr>\n",
       "    <tr>\n",
       "      <th>166</th>\n",
       "      <td>정보통신업</td>\n",
       "      <td>18.04</td>\n",
       "    </tr>\n",
       "  </tbody>\n",
       "</table>\n",
       "</div>"
      ],
      "text/plain": [
       "     업종대분류  온실가스배출량/매출액(tCO2/억원)\n",
       "2    정보통신업                  1.88\n",
       "3    정보통신업                  4.32\n",
       "17   정보통신업                  8.85\n",
       "27   정보통신업                  0.60\n",
       "28   정보통신업                  2.09\n",
       "52   정보통신업                 10.46\n",
       "166  정보통신업                 18.04"
      ]
     },
     "execution_count": 31,
     "metadata": {},
     "output_type": "execute_result"
    }
   ],
   "source": [
    "co2_정보 = co2[co2['업종대분류']=='정보통신업'].dropna()\n",
    "co2_정보"
   ]
  },
  {
   "cell_type": "code",
   "execution_count": 32,
   "id": "f1507da9",
   "metadata": {},
   "outputs": [
    {
     "name": "stderr",
     "output_type": "stream",
     "text": [
      "No handles with labels found to put in legend.\n"
     ]
    },
    {
     "data": {
      "image/png": "[encoded data removed]",
      "text/plain": [
       "<Figure size 432x288 with 1 Axes>"
      ]
     },
     "metadata": {},
     "output_type": "display_data"
    }
   ],
   "source": [
    "plt.hist(co2_정보['온실가스배출량/매출액(tCO2/억원)'], bins=100)\n",
    "plt.legend()\n",
    "plt.show()"
   ]
  },
  {
   "cell_type": "code",
   "execution_count": 33,
   "id": "4e04eecb",
   "metadata": {},
   "outputs": [
    {
     "data": {
      "text/plain": [
       "array([1.985, 3.205, 6.585, 9.655])"
      ]
     },
     "execution_count": 33,
     "metadata": {},
     "output_type": "execute_result"
    }
   ],
   "source": [
    "np.percentile(co2_정보['온실가스배출량/매출액(tCO2/억원)'], [20, 40, 60, 80], interpolation='midpoint')"
   ]
  },
  {
   "cell_type": "code",
   "execution_count": null,
   "id": "f93a9f92",
   "metadata": {},
   "outputs": [],
   "source": []
  },
  {
   "cell_type": "markdown",
   "id": "f6a7a8cb",
   "metadata": {},
   "source": [
    "### 건설업"
   ]
  },
  {
   "cell_type": "code",
   "execution_count": 34,
   "id": "cfa0486b",
   "metadata": {},
   "outputs": [
    {
     "data": {
      "text/html": [
       "<div>\n",
       "<style scoped>\n",
       "    .dataframe tbody tr th:only-of-type {\n",
       "        vertical-align: middle;\n",
       "    }\n",
       "\n",
       "    .dataframe tbody tr th {\n",
       "        vertical-align: top;\n",
       "    }\n",
       "\n",
       "    .dataframe thead th {\n",
       "        text-align: right;\n",
       "    }\n",
       "</style>\n",
       "<table border=\"1\" class=\"dataframe\">\n",
       "  <thead>\n",
       "    <tr style=\"text-align: right;\">\n",
       "      <th></th>\n",
       "      <th>업종대분류</th>\n",
       "      <th>온실가스배출량/매출액(tCO2/억원)</th>\n",
       "    </tr>\n",
       "  </thead>\n",
       "  <tbody>\n",
       "    <tr>\n",
       "      <th>55</th>\n",
       "      <td>건설업</td>\n",
       "      <td>0.81</td>\n",
       "    </tr>\n",
       "    <tr>\n",
       "      <th>80</th>\n",
       "      <td>건설업</td>\n",
       "      <td>1.22</td>\n",
       "    </tr>\n",
       "    <tr>\n",
       "      <th>98</th>\n",
       "      <td>건설업</td>\n",
       "      <td>0.77</td>\n",
       "    </tr>\n",
       "    <tr>\n",
       "      <th>119</th>\n",
       "      <td>건설업</td>\n",
       "      <td>3.13</td>\n",
       "    </tr>\n",
       "  </tbody>\n",
       "</table>\n",
       "</div>"
      ],
      "text/plain": [
       "    업종대분류  온실가스배출량/매출액(tCO2/억원)\n",
       "55    건설업                  0.81\n",
       "80    건설업                  1.22\n",
       "98    건설업                  0.77\n",
       "119   건설업                  3.13"
      ]
     },
     "execution_count": 34,
     "metadata": {},
     "output_type": "execute_result"
    }
   ],
   "source": [
    "co2_건설업 = co2[co2['업종대분류']=='건설업'].dropna()\n",
    "co2_건설업"
   ]
  },
  {
   "cell_type": "code",
   "execution_count": 35,
   "id": "4219eded",
   "metadata": {},
   "outputs": [
    {
     "data": {
      "text/plain": [
       "array([0.79 , 1.015, 1.015, 2.175])"
      ]
     },
     "execution_count": 35,
     "metadata": {},
     "output_type": "execute_result"
    }
   ],
   "source": [
    "np.percentile(co2_건설업['온실가스배출량/매출액(tCO2/억원)'], [20, 40, 60, 80], interpolation='midpoint')"
   ]
  },
  {
   "cell_type": "code",
   "execution_count": null,
   "id": "1d525d0f",
   "metadata": {},
   "outputs": [],
   "source": []
  },
  {
   "cell_type": "markdown",
   "id": "94d8dc85",
   "metadata": {},
   "source": [
    "### 전문, 과학 및 기술 서비스업"
   ]
  },
  {
   "cell_type": "code",
   "execution_count": 36,
   "id": "9d2eaef7",
   "metadata": {},
   "outputs": [
    {
     "data": {
      "text/html": [
       "<div>\n",
       "<style scoped>\n",
       "    .dataframe tbody tr th:only-of-type {\n",
       "        vertical-align: middle;\n",
       "    }\n",
       "\n",
       "    .dataframe tbody tr th {\n",
       "        vertical-align: top;\n",
       "    }\n",
       "\n",
       "    .dataframe thead th {\n",
       "        text-align: right;\n",
       "    }\n",
       "</style>\n",
       "<table border=\"1\" class=\"dataframe\">\n",
       "  <thead>\n",
       "    <tr style=\"text-align: right;\">\n",
       "      <th></th>\n",
       "      <th>업종대분류</th>\n",
       "      <th>온실가스배출량/매출액(tCO2/억원)</th>\n",
       "    </tr>\n",
       "  </thead>\n",
       "  <tbody>\n",
       "    <tr>\n",
       "      <th>66</th>\n",
       "      <td>전문, 과학 및 기술 서비스업</td>\n",
       "      <td>1.17</td>\n",
       "    </tr>\n",
       "    <tr>\n",
       "      <th>113</th>\n",
       "      <td>전문, 과학 및 기술 서비스업</td>\n",
       "      <td>0.24</td>\n",
       "    </tr>\n",
       "    <tr>\n",
       "      <th>132</th>\n",
       "      <td>전문, 과학 및 기술 서비스업</td>\n",
       "      <td>255.12</td>\n",
       "    </tr>\n",
       "    <tr>\n",
       "      <th>153</th>\n",
       "      <td>전문, 과학 및 기술 서비스업</td>\n",
       "      <td>4.66</td>\n",
       "    </tr>\n",
       "    <tr>\n",
       "      <th>173</th>\n",
       "      <td>전문, 과학 및 기술 서비스업</td>\n",
       "      <td>0.12</td>\n",
       "    </tr>\n",
       "  </tbody>\n",
       "</table>\n",
       "</div>"
      ],
      "text/plain": [
       "                업종대분류  온실가스배출량/매출액(tCO2/억원)\n",
       "66   전문, 과학 및 기술 서비스업                  1.17\n",
       "113  전문, 과학 및 기술 서비스업                  0.24\n",
       "132  전문, 과학 및 기술 서비스업                255.12\n",
       "153  전문, 과학 및 기술 서비스업                  4.66\n",
       "173  전문, 과학 및 기술 서비스업                  0.12"
      ]
     },
     "execution_count": 36,
     "metadata": {},
     "output_type": "execute_result"
    }
   ],
   "source": [
    "co2_전문 = co2[co2['업종대분류']=='전문, 과학 및 기술 서비스업'].dropna()\n",
    "co2_전문"
   ]
  },
  {
   "cell_type": "code",
   "execution_count": 39,
   "id": "65a5b552",
   "metadata": {},
   "outputs": [
    {
     "data": {
      "text/plain": [
       "array([  0.18 ,   0.705,   2.915, 129.89 ])"
      ]
     },
     "execution_count": 39,
     "metadata": {},
     "output_type": "execute_result"
    }
   ],
   "source": [
    "np.percentile(co2_전문['온실가스배출량/매출액(tCO2/억원)'], [20, 40, 60, 80], interpolation='midpoint')"
   ]
  },
  {
   "cell_type": "code",
   "execution_count": null,
   "id": "b442d82d",
   "metadata": {},
   "outputs": [],
   "source": []
  },
  {
   "cell_type": "code",
   "execution_count": null,
   "id": "4b628c87",
   "metadata": {},
   "outputs": [],
   "source": []
  },
  {
   "cell_type": "code",
   "execution_count": null,
   "id": "70c2d1fb",
   "metadata": {},
   "outputs": [],
   "source": []
  },
  {
   "cell_type": "code",
   "execution_count": null,
   "id": "99eceb6d",
   "metadata": {},
   "outputs": [],
   "source": []
  },
  {
   "cell_type": "code",
   "execution_count": null,
   "id": "3e8bfe58",
   "metadata": {},
   "outputs": [],
   "source": []
  },
  {
   "cell_type": "code",
   "execution_count": null,
   "id": "a2d38cce",
   "metadata": {},
   "outputs": [],
   "source": []
  },
  {
   "cell_type": "markdown",
   "id": "374d0e3e",
   "metadata": {},
   "source": [
    "# 에너지"
   ]
  },
  {
   "cell_type": "code",
   "execution_count": 40,
   "id": "ce0c7fba",
   "metadata": {},
   "outputs": [],
   "source": [
    "energy = data[['업종대분류', '에너지사용량/매출액(TJ/억원)']]"
   ]
  },
  {
   "cell_type": "code",
   "execution_count": 42,
   "id": "9a4341ec",
   "metadata": {},
   "outputs": [
    {
     "name": "stderr",
     "output_type": "stream",
     "text": [
      "<ipython-input-42-988546b77878>:1: SettingWithCopyWarning: \n",
      "A value is trying to be set on a copy of a slice from a DataFrame\n",
      "\n",
      "See the caveats in the documentation: https://pandas.pydata.org/pandas-docs/stable/user_guide/indexing.html#returning-a-view-versus-a-copy\n",
      "  energy.dropna(inplace=True)\n"
     ]
    }
   ],
   "source": [
    "energy.dropna(inplace=True)"
   ]
  },
  {
   "cell_type": "code",
   "execution_count": 43,
   "id": "d3fa80bf",
   "metadata": {},
   "outputs": [
    {
     "data": {
      "text/plain": [
       "제조업                         86\n",
       "금융 및 보험업                    24\n",
       "도매 및 소매업                    19\n",
       "정보통신업                        7\n",
       "운수 및 창고업                     5\n",
       "건설업                          4\n",
       "전문, 과학 및 기술 서비스업             4\n",
       "전기, 가스, 증기 및 공기 조절 공급업       2\n",
       "농업, 임업 및 어업                  1\n",
       "부동산업                         1\n",
       "예술, 스포츠 및 여가관련 서비스업          1\n",
       "협회 및 단체, 수리 및 기타 개인 서비스업     1\n",
       "Name: 업종대분류, dtype: int64"
      ]
     },
     "execution_count": 43,
     "metadata": {},
     "output_type": "execute_result"
    }
   ],
   "source": [
    "energy['업종대분류'].value_counts()"
   ]
  },
  {
   "cell_type": "code",
   "execution_count": null,
   "id": "74a143b4",
   "metadata": {},
   "outputs": [],
   "source": []
  },
  {
   "cell_type": "markdown",
   "id": "6b21c2c0",
   "metadata": {},
   "source": [
    "### 제조업"
   ]
  },
  {
   "cell_type": "code",
   "execution_count": 44,
   "id": "9899e158",
   "metadata": {},
   "outputs": [
    {
     "data": {
      "text/html": [
       "<div>\n",
       "<style scoped>\n",
       "    .dataframe tbody tr th:only-of-type {\n",
       "        vertical-align: middle;\n",
       "    }\n",
       "\n",
       "    .dataframe tbody tr th {\n",
       "        vertical-align: top;\n",
       "    }\n",
       "\n",
       "    .dataframe thead th {\n",
       "        text-align: right;\n",
       "    }\n",
       "</style>\n",
       "<table border=\"1\" class=\"dataframe\">\n",
       "  <thead>\n",
       "    <tr style=\"text-align: right;\">\n",
       "      <th></th>\n",
       "      <th>업종대분류</th>\n",
       "      <th>에너지사용량/매출액(TJ/억원)</th>\n",
       "    </tr>\n",
       "  </thead>\n",
       "  <tbody>\n",
       "    <tr>\n",
       "      <th>0</th>\n",
       "      <td>제조업</td>\n",
       "      <td>0.1065</td>\n",
       "    </tr>\n",
       "    <tr>\n",
       "      <th>1</th>\n",
       "      <td>제조업</td>\n",
       "      <td>0.2646</td>\n",
       "    </tr>\n",
       "    <tr>\n",
       "      <th>4</th>\n",
       "      <td>제조업</td>\n",
       "      <td>0.2171</td>\n",
       "    </tr>\n",
       "    <tr>\n",
       "      <th>5</th>\n",
       "      <td>제조업</td>\n",
       "      <td>0.7316</td>\n",
       "    </tr>\n",
       "    <tr>\n",
       "      <th>6</th>\n",
       "      <td>제조업</td>\n",
       "      <td>0.1275</td>\n",
       "    </tr>\n",
       "    <tr>\n",
       "      <th>...</th>\n",
       "      <td>...</td>\n",
       "      <td>...</td>\n",
       "    </tr>\n",
       "    <tr>\n",
       "      <th>188</th>\n",
       "      <td>제조업</td>\n",
       "      <td>0.1042</td>\n",
       "    </tr>\n",
       "    <tr>\n",
       "      <th>189</th>\n",
       "      <td>제조업</td>\n",
       "      <td>0.2916</td>\n",
       "    </tr>\n",
       "    <tr>\n",
       "      <th>191</th>\n",
       "      <td>제조업</td>\n",
       "      <td>0.0958</td>\n",
       "    </tr>\n",
       "    <tr>\n",
       "      <th>193</th>\n",
       "      <td>제조업</td>\n",
       "      <td>0.0439</td>\n",
       "    </tr>\n",
       "    <tr>\n",
       "      <th>196</th>\n",
       "      <td>제조업</td>\n",
       "      <td>0.4185</td>\n",
       "    </tr>\n",
       "  </tbody>\n",
       "</table>\n",
       "<p>86 rows × 2 columns</p>\n",
       "</div>"
      ],
      "text/plain": [
       "    업종대분류  에너지사용량/매출액(TJ/억원)\n",
       "0     제조업             0.1065\n",
       "1     제조업             0.2646\n",
       "4     제조업             0.2171\n",
       "5     제조업             0.7316\n",
       "6     제조업             0.1275\n",
       "..    ...                ...\n",
       "188   제조업             0.1042\n",
       "189   제조업             0.2916\n",
       "191   제조업             0.0958\n",
       "193   제조업             0.0439\n",
       "196   제조업             0.4185\n",
       "\n",
       "[86 rows x 2 columns]"
      ]
     },
     "execution_count": 44,
     "metadata": {},
     "output_type": "execute_result"
    }
   ],
   "source": [
    "energy_제조업 = energy[energy['업종대분류']=='제조업']\n",
    "energy_제조업"
   ]
  },
  {
   "cell_type": "code",
   "execution_count": 45,
   "id": "3ce5a0fe",
   "metadata": {},
   "outputs": [
    {
     "name": "stderr",
     "output_type": "stream",
     "text": [
      "No handles with labels found to put in legend.\n"
     ]
    },
    {
     "data": {
      "image/png": "[encoded data removed]",
      "text/plain": [
       "<Figure size 432x288 with 1 Axes>"
      ]
     },
     "metadata": {},
     "output_type": "display_data"
    }
   ],
   "source": [
    "plt.hist(energy_제조업['에너지사용량/매출액(TJ/억원)'], bins=100)\n",
    "plt.legend()\n",
    "plt.show()"
   ]
  },
  {
   "cell_type": "code",
   "execution_count": 46,
   "id": "62ad8065",
   "metadata": {},
   "outputs": [
    {
     "data": {
      "text/plain": [
       "array([0.0506, 0.1268, 0.2646, 0.785 ])"
      ]
     },
     "execution_count": 46,
     "metadata": {},
     "output_type": "execute_result"
    }
   ],
   "source": [
    "np.percentile(energy_제조업['에너지사용량/매출액(TJ/억원)'], [20, 40, 60, 80], interpolation='midpoint')"
   ]
  },
  {
   "cell_type": "code",
   "execution_count": null,
   "id": "8679ccd9",
   "metadata": {},
   "outputs": [],
   "source": []
  },
  {
   "cell_type": "markdown",
   "id": "99e97449",
   "metadata": {},
   "source": [
    "### 금융 및 보험업"
   ]
  },
  {
   "cell_type": "code",
   "execution_count": 47,
   "id": "15f74b3b",
   "metadata": {},
   "outputs": [
    {
     "data": {
      "text/html": [
       "<div>\n",
       "<style scoped>\n",
       "    .dataframe tbody tr th:only-of-type {\n",
       "        vertical-align: middle;\n",
       "    }\n",
       "\n",
       "    .dataframe tbody tr th {\n",
       "        vertical-align: top;\n",
       "    }\n",
       "\n",
       "    .dataframe thead th {\n",
       "        text-align: right;\n",
       "    }\n",
       "</style>\n",
       "<table border=\"1\" class=\"dataframe\">\n",
       "  <thead>\n",
       "    <tr style=\"text-align: right;\">\n",
       "      <th></th>\n",
       "      <th>업종대분류</th>\n",
       "      <th>에너지사용량/매출액(TJ/억원)</th>\n",
       "    </tr>\n",
       "  </thead>\n",
       "  <tbody>\n",
       "    <tr>\n",
       "      <th>18</th>\n",
       "      <td>금융 및 보험업</td>\n",
       "      <td>0.1651</td>\n",
       "    </tr>\n",
       "    <tr>\n",
       "      <th>19</th>\n",
       "      <td>금융 및 보험업</td>\n",
       "      <td>0.0132</td>\n",
       "    </tr>\n",
       "    <tr>\n",
       "      <th>20</th>\n",
       "      <td>금융 및 보험업</td>\n",
       "      <td>0.0386</td>\n",
       "    </tr>\n",
       "    <tr>\n",
       "      <th>24</th>\n",
       "      <td>금융 및 보험업</td>\n",
       "      <td>0.0031</td>\n",
       "    </tr>\n",
       "    <tr>\n",
       "      <th>29</th>\n",
       "      <td>금융 및 보험업</td>\n",
       "      <td>0.2576</td>\n",
       "    </tr>\n",
       "    <tr>\n",
       "      <th>37</th>\n",
       "      <td>금융 및 보험업</td>\n",
       "      <td>0.0013</td>\n",
       "    </tr>\n",
       "    <tr>\n",
       "      <th>44</th>\n",
       "      <td>금융 및 보험업</td>\n",
       "      <td>0.2332</td>\n",
       "    </tr>\n",
       "    <tr>\n",
       "      <th>47</th>\n",
       "      <td>금융 및 보험업</td>\n",
       "      <td>0.0004</td>\n",
       "    </tr>\n",
       "    <tr>\n",
       "      <th>59</th>\n",
       "      <td>금융 및 보험업</td>\n",
       "      <td>0.0019</td>\n",
       "    </tr>\n",
       "    <tr>\n",
       "      <th>62</th>\n",
       "      <td>금융 및 보험업</td>\n",
       "      <td>5.9194</td>\n",
       "    </tr>\n",
       "    <tr>\n",
       "      <th>63</th>\n",
       "      <td>금융 및 보험업</td>\n",
       "      <td>3911.3518</td>\n",
       "    </tr>\n",
       "    <tr>\n",
       "      <th>72</th>\n",
       "      <td>금융 및 보험업</td>\n",
       "      <td>0.0001</td>\n",
       "    </tr>\n",
       "    <tr>\n",
       "      <th>73</th>\n",
       "      <td>금융 및 보험업</td>\n",
       "      <td>0.3295</td>\n",
       "    </tr>\n",
       "    <tr>\n",
       "      <th>76</th>\n",
       "      <td>금융 및 보험업</td>\n",
       "      <td>0.0011</td>\n",
       "    </tr>\n",
       "    <tr>\n",
       "      <th>85</th>\n",
       "      <td>금융 및 보험업</td>\n",
       "      <td>0.0001</td>\n",
       "    </tr>\n",
       "    <tr>\n",
       "      <th>86</th>\n",
       "      <td>금융 및 보험업</td>\n",
       "      <td>52.0066</td>\n",
       "    </tr>\n",
       "    <tr>\n",
       "      <th>112</th>\n",
       "      <td>금융 및 보험업</td>\n",
       "      <td>226.5141</td>\n",
       "    </tr>\n",
       "    <tr>\n",
       "      <th>120</th>\n",
       "      <td>금융 및 보험업</td>\n",
       "      <td>0.1586</td>\n",
       "    </tr>\n",
       "    <tr>\n",
       "      <th>123</th>\n",
       "      <td>금융 및 보험업</td>\n",
       "      <td>0.2196</td>\n",
       "    </tr>\n",
       "    <tr>\n",
       "      <th>125</th>\n",
       "      <td>금융 및 보험업</td>\n",
       "      <td>0.0009</td>\n",
       "    </tr>\n",
       "    <tr>\n",
       "      <th>131</th>\n",
       "      <td>금융 및 보험업</td>\n",
       "      <td>1.4581</td>\n",
       "    </tr>\n",
       "    <tr>\n",
       "      <th>147</th>\n",
       "      <td>금융 및 보험업</td>\n",
       "      <td>0.3769</td>\n",
       "    </tr>\n",
       "    <tr>\n",
       "      <th>148</th>\n",
       "      <td>금융 및 보험업</td>\n",
       "      <td>1.0430</td>\n",
       "    </tr>\n",
       "    <tr>\n",
       "      <th>192</th>\n",
       "      <td>금융 및 보험업</td>\n",
       "      <td>452.1981</td>\n",
       "    </tr>\n",
       "  </tbody>\n",
       "</table>\n",
       "</div>"
      ],
      "text/plain": [
       "        업종대분류  에너지사용량/매출액(TJ/억원)\n",
       "18   금융 및 보험업             0.1651\n",
       "19   금융 및 보험업             0.0132\n",
       "20   금융 및 보험업             0.0386\n",
       "24   금융 및 보험업             0.0031\n",
       "29   금융 및 보험업             0.2576\n",
       "37   금융 및 보험업             0.0013\n",
       "44   금융 및 보험업             0.2332\n",
       "47   금융 및 보험업             0.0004\n",
       "59   금융 및 보험업             0.0019\n",
       "62   금융 및 보험업             5.9194\n",
       "63   금융 및 보험업          3911.3518\n",
       "72   금융 및 보험업             0.0001\n",
       "73   금융 및 보험업             0.3295\n",
       "76   금융 및 보험업             0.0011\n",
       "85   금융 및 보험업             0.0001\n",
       "86   금융 및 보험업            52.0066\n",
       "112  금융 및 보험업           226.5141\n",
       "120  금융 및 보험업             0.1586\n",
       "123  금융 및 보험업             0.2196\n",
       "125  금융 및 보험업             0.0009\n",
       "131  금융 및 보험업             1.4581\n",
       "147  금융 및 보험업             0.3769\n",
       "148  금융 및 보험업             1.0430\n",
       "192  금융 및 보험업           452.1981"
      ]
     },
     "execution_count": 47,
     "metadata": {},
     "output_type": "execute_result"
    }
   ],
   "source": [
    "energy_금융 = energy[energy['업종대분류']=='금융 및 보험업']\n",
    "energy_금융"
   ]
  },
  {
   "cell_type": "code",
   "execution_count": 48,
   "id": "7f54f3cb",
   "metadata": {},
   "outputs": [
    {
     "name": "stderr",
     "output_type": "stream",
     "text": [
      "No handles with labels found to put in legend.\n"
     ]
    },
    {
     "data": {
      "image/png": "[encoded data removed]",
      "text/plain": [
       "<Figure size 432x288 with 1 Axes>"
      ]
     },
     "metadata": {},
     "output_type": "display_data"
    }
   ],
   "source": [
    "plt.hist(energy_금융['에너지사용량/매출액(TJ/억원)'], bins=100)\n",
    "plt.legend()\n",
    "plt.show()"
   ]
  },
  {
   "cell_type": "code",
   "execution_count": 49,
   "id": "6d504d8b",
   "metadata": {},
   "outputs": [
    {
     "data": {
      "text/plain": [
       "array([1.20000e-03, 9.86000e-02, 2.45400e-01, 3.68875e+00])"
      ]
     },
     "execution_count": 49,
     "metadata": {},
     "output_type": "execute_result"
    }
   ],
   "source": [
    "np.percentile(energy_금융['에너지사용량/매출액(TJ/억원)'], [20, 40, 60, 80], interpolation='midpoint')"
   ]
  },
  {
   "cell_type": "code",
   "execution_count": null,
   "id": "a4ecde1b",
   "metadata": {},
   "outputs": [],
   "source": []
  },
  {
   "cell_type": "markdown",
   "id": "e1406abc",
   "metadata": {},
   "source": [
    "### 도매 및 소매업"
   ]
  },
  {
   "cell_type": "code",
   "execution_count": 50,
   "id": "ab983a47",
   "metadata": {},
   "outputs": [
    {
     "data": {
      "text/html": [
       "<div>\n",
       "<style scoped>\n",
       "    .dataframe tbody tr th:only-of-type {\n",
       "        vertical-align: middle;\n",
       "    }\n",
       "\n",
       "    .dataframe tbody tr th {\n",
       "        vertical-align: top;\n",
       "    }\n",
       "\n",
       "    .dataframe thead th {\n",
       "        text-align: right;\n",
       "    }\n",
       "</style>\n",
       "<table border=\"1\" class=\"dataframe\">\n",
       "  <thead>\n",
       "    <tr style=\"text-align: right;\">\n",
       "      <th></th>\n",
       "      <th>업종대분류</th>\n",
       "      <th>에너지사용량/매출액(TJ/억원)</th>\n",
       "    </tr>\n",
       "  </thead>\n",
       "  <tbody>\n",
       "    <tr>\n",
       "      <th>12</th>\n",
       "      <td>도매 및 소매업</td>\n",
       "      <td>0.0095</td>\n",
       "    </tr>\n",
       "    <tr>\n",
       "      <th>35</th>\n",
       "      <td>도매 및 소매업</td>\n",
       "      <td>0.0755</td>\n",
       "    </tr>\n",
       "    <tr>\n",
       "      <th>64</th>\n",
       "      <td>도매 및 소매업</td>\n",
       "      <td>0.0749</td>\n",
       "    </tr>\n",
       "    <tr>\n",
       "      <th>70</th>\n",
       "      <td>도매 및 소매업</td>\n",
       "      <td>4916.8681</td>\n",
       "    </tr>\n",
       "    <tr>\n",
       "      <th>91</th>\n",
       "      <td>도매 및 소매업</td>\n",
       "      <td>0.0142</td>\n",
       "    </tr>\n",
       "    <tr>\n",
       "      <th>93</th>\n",
       "      <td>도매 및 소매업</td>\n",
       "      <td>0.0000</td>\n",
       "    </tr>\n",
       "    <tr>\n",
       "      <th>100</th>\n",
       "      <td>도매 및 소매업</td>\n",
       "      <td>0.1523</td>\n",
       "    </tr>\n",
       "    <tr>\n",
       "      <th>106</th>\n",
       "      <td>도매 및 소매업</td>\n",
       "      <td>0.0064</td>\n",
       "    </tr>\n",
       "    <tr>\n",
       "      <th>108</th>\n",
       "      <td>도매 및 소매업</td>\n",
       "      <td>106.3397</td>\n",
       "    </tr>\n",
       "    <tr>\n",
       "      <th>110</th>\n",
       "      <td>도매 및 소매업</td>\n",
       "      <td>4500.7689</td>\n",
       "    </tr>\n",
       "    <tr>\n",
       "      <th>114</th>\n",
       "      <td>도매 및 소매업</td>\n",
       "      <td>2.3918</td>\n",
       "    </tr>\n",
       "    <tr>\n",
       "      <th>116</th>\n",
       "      <td>도매 및 소매업</td>\n",
       "      <td>0.1719</td>\n",
       "    </tr>\n",
       "    <tr>\n",
       "      <th>134</th>\n",
       "      <td>도매 및 소매업</td>\n",
       "      <td>0.2399</td>\n",
       "    </tr>\n",
       "    <tr>\n",
       "      <th>141</th>\n",
       "      <td>도매 및 소매업</td>\n",
       "      <td>0.1274</td>\n",
       "    </tr>\n",
       "    <tr>\n",
       "      <th>157</th>\n",
       "      <td>도매 및 소매업</td>\n",
       "      <td>0.0009</td>\n",
       "    </tr>\n",
       "    <tr>\n",
       "      <th>158</th>\n",
       "      <td>도매 및 소매업</td>\n",
       "      <td>0.0062</td>\n",
       "    </tr>\n",
       "    <tr>\n",
       "      <th>174</th>\n",
       "      <td>도매 및 소매업</td>\n",
       "      <td>0.0022</td>\n",
       "    </tr>\n",
       "    <tr>\n",
       "      <th>181</th>\n",
       "      <td>도매 및 소매업</td>\n",
       "      <td>0.0015</td>\n",
       "    </tr>\n",
       "    <tr>\n",
       "      <th>190</th>\n",
       "      <td>도매 및 소매업</td>\n",
       "      <td>0.0055</td>\n",
       "    </tr>\n",
       "  </tbody>\n",
       "</table>\n",
       "</div>"
      ],
      "text/plain": [
       "        업종대분류  에너지사용량/매출액(TJ/억원)\n",
       "12   도매 및 소매업             0.0095\n",
       "35   도매 및 소매업             0.0755\n",
       "64   도매 및 소매업             0.0749\n",
       "70   도매 및 소매업          4916.8681\n",
       "91   도매 및 소매업             0.0142\n",
       "93   도매 및 소매업             0.0000\n",
       "100  도매 및 소매업             0.1523\n",
       "106  도매 및 소매업             0.0064\n",
       "108  도매 및 소매업           106.3397\n",
       "110  도매 및 소매업          4500.7689\n",
       "114  도매 및 소매업             2.3918\n",
       "116  도매 및 소매업             0.1719\n",
       "134  도매 및 소매업             0.2399\n",
       "141  도매 및 소매업             0.1274\n",
       "157  도매 및 소매업             0.0009\n",
       "158  도매 및 소매업             0.0062\n",
       "174  도매 및 소매업             0.0022\n",
       "181  도매 및 소매업             0.0015\n",
       "190  도매 및 소매업             0.0055"
      ]
     },
     "execution_count": 50,
     "metadata": {},
     "output_type": "execute_result"
    }
   ],
   "source": [
    "energy_도소매 = energy[energy['업종대분류']=='도매 및 소매업']\n",
    "energy_도소매"
   ]
  },
  {
   "cell_type": "code",
   "execution_count": 51,
   "id": "2f0bda04",
   "metadata": {},
   "outputs": [
    {
     "name": "stderr",
     "output_type": "stream",
     "text": [
      "No handles with labels found to put in legend.\n"
     ]
    },
    {
     "data": {
      "image/png": "[encoded data removed]",
      "text/plain": [
       "<Figure size 432x288 with 1 Axes>"
      ]
     },
     "metadata": {},
     "output_type": "display_data"
    }
   ],
   "source": [
    "plt.hist(energy_도소매['에너지사용량/매출액(TJ/억원)'], bins=100)\n",
    "plt.legend()\n",
    "plt.show()"
   ]
  },
  {
   "cell_type": "code",
   "execution_count": 52,
   "id": "7ba2bbb9",
   "metadata": {},
   "outputs": [
    {
     "data": {
      "text/plain": [
       "array([0.00385, 0.01185, 0.10145, 1.31585])"
      ]
     },
     "execution_count": 52,
     "metadata": {},
     "output_type": "execute_result"
    }
   ],
   "source": [
    "np.percentile(energy_도소매['에너지사용량/매출액(TJ/억원)'], [20, 40, 60, 80], interpolation='midpoint')"
   ]
  },
  {
   "cell_type": "code",
   "execution_count": null,
   "id": "e695f0b0",
   "metadata": {},
   "outputs": [],
   "source": []
  },
  {
   "cell_type": "markdown",
   "id": "4c811799",
   "metadata": {},
   "source": [
    "### 정보통신업"
   ]
  },
  {
   "cell_type": "code",
   "execution_count": 53,
   "id": "6904ee39",
   "metadata": {},
   "outputs": [
    {
     "data": {
      "text/html": [
       "<div>\n",
       "<style scoped>\n",
       "    .dataframe tbody tr th:only-of-type {\n",
       "        vertical-align: middle;\n",
       "    }\n",
       "\n",
       "    .dataframe tbody tr th {\n",
       "        vertical-align: top;\n",
       "    }\n",
       "\n",
       "    .dataframe thead th {\n",
       "        text-align: right;\n",
       "    }\n",
       "</style>\n",
       "<table border=\"1\" class=\"dataframe\">\n",
       "  <thead>\n",
       "    <tr style=\"text-align: right;\">\n",
       "      <th></th>\n",
       "      <th>업종대분류</th>\n",
       "      <th>에너지사용량/매출액(TJ/억원)</th>\n",
       "    </tr>\n",
       "  </thead>\n",
       "  <tbody>\n",
       "    <tr>\n",
       "      <th>2</th>\n",
       "      <td>정보통신업</td>\n",
       "      <td>0.0339</td>\n",
       "    </tr>\n",
       "    <tr>\n",
       "      <th>3</th>\n",
       "      <td>정보통신업</td>\n",
       "      <td>0.0891</td>\n",
       "    </tr>\n",
       "    <tr>\n",
       "      <th>17</th>\n",
       "      <td>정보통신업</td>\n",
       "      <td>0.1819</td>\n",
       "    </tr>\n",
       "    <tr>\n",
       "      <th>27</th>\n",
       "      <td>정보통신업</td>\n",
       "      <td>0.0128</td>\n",
       "    </tr>\n",
       "    <tr>\n",
       "      <th>28</th>\n",
       "      <td>정보통신업</td>\n",
       "      <td>0.0428</td>\n",
       "    </tr>\n",
       "    <tr>\n",
       "      <th>52</th>\n",
       "      <td>정보통신업</td>\n",
       "      <td>0.2154</td>\n",
       "    </tr>\n",
       "    <tr>\n",
       "      <th>166</th>\n",
       "      <td>정보통신업</td>\n",
       "      <td>0.3518</td>\n",
       "    </tr>\n",
       "  </tbody>\n",
       "</table>\n",
       "</div>"
      ],
      "text/plain": [
       "     업종대분류  에너지사용량/매출액(TJ/억원)\n",
       "2    정보통신업             0.0339\n",
       "3    정보통신업             0.0891\n",
       "17   정보통신업             0.1819\n",
       "27   정보통신업             0.0128\n",
       "28   정보통신업             0.0428\n",
       "52   정보통신업             0.2154\n",
       "166  정보통신업             0.3518"
      ]
     },
     "execution_count": 53,
     "metadata": {},
     "output_type": "execute_result"
    }
   ],
   "source": [
    "energy_정보 = energy[energy['업종대분류']=='정보통신업']\n",
    "energy_정보"
   ]
  },
  {
   "cell_type": "code",
   "execution_count": 54,
   "id": "b26b806f",
   "metadata": {},
   "outputs": [
    {
     "data": {
      "text/plain": [
       "array([0.03835, 0.06595, 0.1355 , 0.19865])"
      ]
     },
     "execution_count": 54,
     "metadata": {},
     "output_type": "execute_result"
    }
   ],
   "source": [
    "np.percentile(energy_정보['에너지사용량/매출액(TJ/억원)'], [20, 40, 60, 80], interpolation='midpoint')"
   ]
  },
  {
   "cell_type": "code",
   "execution_count": null,
   "id": "a890645e",
   "metadata": {},
   "outputs": [],
   "source": []
  },
  {
   "cell_type": "code",
   "execution_count": null,
   "id": "da5c48e5",
   "metadata": {},
   "outputs": [],
   "source": []
  },
  {
   "cell_type": "code",
   "execution_count": null,
   "id": "375c5a86",
   "metadata": {},
   "outputs": [],
   "source": []
  },
  {
   "cell_type": "code",
   "execution_count": null,
   "id": "7fea0e0c",
   "metadata": {},
   "outputs": [],
   "source": []
  },
  {
   "cell_type": "code",
   "execution_count": null,
   "id": "31ec7a01",
   "metadata": {},
   "outputs": [],
   "source": []
  }
 ],
 "metadata": {
  "kernelspec": {
   "display_name": "Python 3",
   "language": "python",
   "name": "python3"
  },
  "language_info": {
   "codemirror_mode": {
    "name": "ipython",
    "version": 3
   },
   "file_extension": ".py",
   "mimetype": "text/x-python",
   "name": "python",
   "nbconvert_exporter": "python",
   "pygments_lexer": "ipython3",
   "version": "3.8.8"
  }
 },
 "nbformat": 4,
 "nbformat_minor": 5
}
